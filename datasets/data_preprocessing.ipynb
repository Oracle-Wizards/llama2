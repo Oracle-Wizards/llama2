{
 "cells": [
  {
   "cell_type": "code",
   "execution_count": 1,
   "metadata": {},
   "outputs": [
    {
     "name": "stdout",
     "output_type": "stream",
     "text": [
      "New CSV file created successfully at llama2_dataset.csv\n"
     ]
    }
   ],
   "source": [
    "import csv\n",
    "\n",
    "# Read data from the existing CSV file\n",
    "csv_file_path = 'dataset.csv'\n",
    "csv_columns = ['query', 'query_optimized']\n",
    "\n",
    "csv_rows = []\n",
    "with open(csv_file_path, 'r') as csv_file:\n",
    "    csv_reader = csv.DictReader(csv_file)\n",
    "    for row in csv_reader:\n",
    "        user_query = row['query']\n",
    "        assistant_query = row['query_optimized']\n",
    "        formatted_text = f\"<s>[INST] {user_query} [/INST]{assistant_query}</s>\"\n",
    "\n",
    "        csv_rows.append({'text': formatted_text})\n",
    "\n",
    "# Write data to the new CSV file\n",
    "llama2_csv_file_path = 'llama2_dataset.csv'\n",
    "llama2_csv_columns = ['text']\n",
    "\n",
    "with open(llama2_csv_file_path, 'w', newline='') as llama2_csv_file:\n",
    "    csv_writer = csv.DictWriter(llama2_csv_file, fieldnames=llama2_csv_columns)\n",
    "    csv_writer.writeheader()\n",
    "\n",
    "    for row in csv_rows:\n",
    "        csv_writer.writerow(row)\n",
    "\n",
    "print(f'New CSV file created successfully at {llama2_csv_file_path}')"
   ]
  },
  {
   "cell_type": "code",
   "execution_count": 2,
   "metadata": {},
   "outputs": [],
   "source": [
    "import pandas as pd\n",
    "from datasets import Dataset"
   ]
  },
  {
   "cell_type": "code",
   "execution_count": 3,
   "metadata": {},
   "outputs": [
    {
     "data": {
      "text/plain": [
       "Dataset({\n",
       "    features: ['text'],\n",
       "    num_rows: 51\n",
       "})"
      ]
     },
     "execution_count": 3,
     "metadata": {},
     "output_type": "execute_result"
    }
   ],
   "source": [
    "query_dataset='llama2_dataset.csv'\n",
    "df = pd.read_csv(query_dataset)\n",
    "df = Dataset.from_pandas(df)\n",
    "dataset = df.train_test_split(test_size=0.2, shuffle=True, seed=42)['train']\n",
    "dataset"
   ]
  }
 ],
 "metadata": {
  "kernelspec": {
   "display_name": "Python 3",
   "language": "python",
   "name": "python3"
  },
  "language_info": {
   "codemirror_mode": {
    "name": "ipython",
    "version": 3
   },
   "file_extension": ".py",
   "mimetype": "text/x-python",
   "name": "python",
   "nbconvert_exporter": "python",
   "pygments_lexer": "ipython3",
   "version": "3.11.3"
  }
 },
 "nbformat": 4,
 "nbformat_minor": 2
}
